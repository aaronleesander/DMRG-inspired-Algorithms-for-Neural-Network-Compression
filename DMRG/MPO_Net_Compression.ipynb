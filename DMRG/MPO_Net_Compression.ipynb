{
 "cells": [
  {
   "cell_type": "code",
   "execution_count": 1,
   "metadata": {},
   "outputs": [],
   "source": [
    "import numpy as np\n",
    "\n",
    "import MPO_hyperparameter_v2\n",
    "import MPO_tt_v2\n",
    "import MPO_inference_v2\n",
    "import MPO_train_v2 as MPO"
   ]
  },
  {
   "cell_type": "code",
   "execution_count": 2,
   "metadata": {
    "tags": []
   },
   "outputs": [
    {
     "output_type": "stream",
     "name": "stdout",
     "text": "WARNING:tensorflow:From c:\\Users\\aaron\\Documents\\Github\\Thesis_Code\\DMRG\\MPO_train_v2.py:87: read_data_sets (from tensorflow.examples.tutorials.mnist.input_data) is deprecated and will be removed in a future version.\nInstructions for updating:\nPlease use alternatives such as: tensorflow_datasets.load('mnist')\nWARNING:tensorflow:From C:\\Users\\aaron\\AppData\\Local\\Programs\\Python\\Python38\\lib\\site-packages\\tensorflow\\examples\\tutorials\\mnist\\input_data.py:296: _maybe_download (from tensorflow.examples.tutorials.mnist.input_data) is deprecated and will be removed in a future version.\nInstructions for updating:\nPlease write your own downloading logic.\nWARNING:tensorflow:From C:\\Users\\aaron\\AppData\\Local\\Programs\\Python\\Python38\\lib\\site-packages\\tensorflow\\examples\\tutorials\\mnist\\input_data.py:299: _extract_images (from tensorflow.examples.tutorials.mnist.input_data) is deprecated and will be removed in a future version.\nInstructions for updating:\nPlease use tf.data to implement this functionality.\nExtracting ./data/train-images-idx3-ubyte.gz\nWARNING:tensorflow:From C:\\Users\\aaron\\AppData\\Local\\Programs\\Python\\Python38\\lib\\site-packages\\tensorflow\\examples\\tutorials\\mnist\\input_data.py:304: _extract_labels (from tensorflow.examples.tutorials.mnist.input_data) is deprecated and will be removed in a future version.\nInstructions for updating:\nPlease use tf.data to implement this functionality.\nExtracting ./data/train-labels-idx1-ubyte.gz\nWARNING:tensorflow:From C:\\Users\\aaron\\AppData\\Local\\Programs\\Python\\Python38\\lib\\site-packages\\tensorflow\\examples\\tutorials\\mnist\\input_data.py:112: _dense_to_one_hot (from tensorflow.examples.tutorials.mnist.input_data) is deprecated and will be removed in a future version.\nInstructions for updating:\nPlease use tf.one_hot on tensors.\nExtracting ./data/t10k-images-idx3-ubyte.gz\nExtracting ./data/t10k-labels-idx1-ubyte.gz\nWARNING:tensorflow:From C:\\Users\\aaron\\AppData\\Local\\Programs\\Python\\Python38\\lib\\site-packages\\tensorflow\\examples\\tutorials\\mnist\\input_data.py:328: _DataSet.__init__ (from tensorflow.examples.tutorials.mnist.input_data) is deprecated and will be removed in a future version.\nInstructions for updating:\nPlease use alternatives such as official/mnist/_DataSet.py from tensorflow/models.\nWARNING:tensorflow:From C:\\Users\\aaron\\AppData\\Local\\Programs\\Python\\Python38\\lib\\site-packages\\tensorflow\\python\\ops\\resource_variable_ops.py:1659: calling BaseResourceVariable.__init__ (from tensorflow.python.ops.resource_variable_ops) with constraint is deprecated and will be removed in a future version.\nInstructions for updating:\nIf using Keras pass *_constraint arguments to layers.\nAccuracy at step 0: 0.1394\nAccuracy at step 1: 0.1733\nAccuracy at step 2: 0.1769\nAccuracy at step 3: 0.1828\nAccuracy at step 4: 0.2035\nAccuracy at step 5: 0.2273\nAccuracy at step 8: 0.2566\nAccuracy at step 9: 0.2708\nAfter 9 trainning step(s),best accuracy=0.2708\n"
    }
   ],
   "source": [
    "# List of layer 1 weights (0-3), layer 1 bias (4), layer 2 weights (5-8), layer 2 bias (9)\n",
    "weights = MPO.main()"
   ]
  },
  {
   "cell_type": "code",
   "execution_count": 3,
   "metadata": {
    "tags": []
   },
   "outputs": [],
   "source": [
    "def weights_to_MPO(weights, D, sigma, sigma_prime, layer):\n",
    "    # Reshape weights, order of indices are an assumption and may need to be modified\n",
    "    MPO = []\n",
    "    num_sites = len(sigma)\n",
    "    starting_site = layer*(num_sites+1)  # +1 to skip bias\n",
    "\n",
    "    for i in range(num_sites):\n",
    "        if i == 0:\n",
    "            # Weights[0] (32, 4) = (D*sigma', sigma) or (sigma'*D, sigma)\n",
    "            site = np.reshape(weights[i+starting_site], (D, sigma_prime[i], sigma[i]))\n",
    "            # Need shape (D_right, sigma, sigma')\n",
    "            site = np.transpose(site, (0, 2, 1))\n",
    "        elif i != 0 and i != num_sites-1:\n",
    "            # Weights[1] (32, 56) = (D*sigma', D*sigma) or (sigma'*D, sigma*D)\n",
    "            # First D is right bond, Second D is left bond\n",
    "            site = np.reshape(weights[i+starting_site], (D, sigma_prime[i], D, sigma[i]))\n",
    "            # Need shape (D_left, D_right, sigma, sigma')\n",
    "            site = np.transpose(site, (2, 0, 3, 1))\n",
    "        elif i == num_sites-1:\n",
    "            # Weights[2] (4, 32) = (sigma', D*sigma) or (sigma', sigma*D)\n",
    "            # First D is right bond, Second D is left bond\n",
    "            site = np.reshape(weights[i+starting_site], (sigma_prime[i], D, sigma[i]))\n",
    "            # Need shape (D_left, sigma, sigma')\n",
    "            site = np.transpose(site, (1, 2, 0))\n",
    "        MPO.append(site)\n",
    "    bias = weights[num_sites+starting_site]\n",
    "    return MPO, bias"
   ]
  },
  {
   "cell_type": "code",
   "execution_count": 4,
   "metadata": {
    "tags": []
   },
   "outputs": [],
   "source": [
    "D = 2\n",
    "sigma = [4, 7, 7, 4]\n",
    "sigma_prime = [4, 4, 4, 4]\n",
    "MPO_0, bias_0 = weights_to_MPO(weights, D, sigma, sigma_prime, layer=0)"
   ]
  },
  {
   "cell_type": "code",
   "execution_count": 5,
   "metadata": {},
   "outputs": [],
   "source": [
    "D = 2\n",
    "sigma = [4, 4, 4, 4]\n",
    "sigma_prime = [1, 10, 1, 1]\n",
    "MPO_1, bias_1 = weights_to_MPO(weights, D, sigma, sigma_prime, layer=1)"
   ]
  },
  {
   "cell_type": "code",
   "execution_count": 6,
   "metadata": {},
   "outputs": [],
   "source": [
    "import contractions as con\n",
    "temp = con.contract_horizontal(MPO_0[0], MPO_0[1], 'right')\n",
    "temp = con.contract_horizontal(temp, MPO_0[2], 'right')\n",
    "layer_0 = con.contract_horizontal(temp, MPO_0[3], 'right')\n",
    "\n",
    "temp = con.contract_horizontal(MPO_1[0], MPO_1[1], 'right')\n",
    "temp = con.contract_horizontal(temp, MPO_1[2], 'right')\n",
    "layer_1 = con.contract_horizontal(temp, MPO_1[3], 'right')"
   ]
  },
  {
   "cell_type": "code",
   "execution_count": 7,
   "metadata": {
    "tags": []
   },
   "outputs": [
    {
     "output_type": "stream",
     "name": "stdout",
     "text": "Extracting ./data/train-images-idx3-ubyte.gz\nExtracting ./data/train-labels-idx1-ubyte.gz\nExtracting ./data/t10k-images-idx3-ubyte.gz\nExtracting ./data/t10k-labels-idx1-ubyte.gz\n"
    }
   ],
   "source": [
    "import tensorflow as tf\n",
    "from tensorflow.examples.tutorials.mnist import input_data\n",
    "\n",
    "data = input_data.read_data_sets(\"./data/\",validation_size=0,one_hot=True)"
   ]
  },
  {
   "cell_type": "code",
   "execution_count": 12,
   "metadata": {},
   "outputs": [
    {
     "output_type": "execute_result",
     "data": {
      "text/plain": "(256,)"
     },
     "metadata": {},
     "execution_count": 12
    }
   ],
   "source": [
    "(data.test.images[test_point] @ layer_0).shape"
   ]
  },
  {
   "cell_type": "code",
   "execution_count": 8,
   "metadata": {
    "tags": []
   },
   "outputs": [
    {
     "output_type": "stream",
     "name": "stdout",
     "text": "6.1899999999999995 %\n"
    }
   ],
   "source": [
    "# Same as random guessing\n",
    "import activation_functions as act\n",
    "total = 10000\n",
    "correct = 0\n",
    "for test_point in range(0, total):\n",
    "    xW_1 = data.test.images[test_point] @ layer_0 + bias_0\n",
    "    xW_1 = act.ReLU(xW_1)\n",
    "    result = xW_1 @ layer_1 + bias_1\n",
    "\n",
    "    index = (np.abs(result-0)).argmin()\n",
    "    if index == list(data.test.labels[test_point]).index(1):\n",
    "        correct += 1\n",
    "\n",
    "print(correct/total*100, \"%\")"
   ]
  },
  {
   "cell_type": "code",
   "execution_count": 6,
   "metadata": {},
   "outputs": [],
   "source": [
    "def apply_layer(x, W, bias, activation='linear'):\n",
    "    xW = []\n",
    "    for i in range(len(x)):\n",
    "        if i == 0 or i == len(W)-1:\n",
    "            # Contract from bottom\n",
    "            site = np.einsum('ij, abi->ajb', x[i], W[i])\n",
    "            # Transpose since we move from MPO to MPS index notation\n",
    "            site = np.reshape(site, (W[i].shape[0]*x[i].shape[1], W[i].shape[1]))\n",
    "            site = site.T\n",
    "            xW.append(site)\n",
    "        else:\n",
    "            # Contract from bottom\n",
    "            site = np.einsum('ijk, abkd->iajbd', x[i], W[i])\n",
    "            site = np.reshape(site, (x[i].shape[0]*W[i].shape[0], x[i].shape[1]*W[i].shape[1], W[i].shape[3]))\n",
    "            xW.append(site)\n",
    "    return xW"
   ]
  },
  {
   "cell_type": "code",
   "execution_count": 7,
   "metadata": {},
   "outputs": [],
   "source": [
    "x1 = np.random.rand(1, 4)\n",
    "x2 = np.random.rand(1, 1, 7)\n",
    "x3 = np.random.rand(1, 1, 7)\n",
    "x4 = np.random.rand(1, 4)\n",
    "\n",
    "x = [x1, x2, x3, x4]"
   ]
  },
  {
   "cell_type": "code",
   "execution_count": 7,
   "metadata": {
    "tags": []
   },
   "outputs": [
    {
     "output_type": "stream",
     "name": "stdout",
     "text": "Extracting ./data/train-images-idx3-ubyte.gz\nExtracting ./data/train-labels-idx1-ubyte.gz\nExtracting ./data/t10k-images-idx3-ubyte.gz\nExtracting ./data/t10k-labels-idx1-ubyte.gz\n"
    }
   ],
   "source": []
  },
  {
   "cell_type": "code",
   "execution_count": 8,
   "metadata": {},
   "outputs": [],
   "source": []
  },
  {
   "cell_type": "code",
   "execution_count": 9,
   "metadata": {},
   "outputs": [],
   "source": []
  },
  {
   "cell_type": "code",
   "execution_count": 10,
   "metadata": {},
   "outputs": [],
   "source": []
  },
  {
   "cell_type": "code",
   "execution_count": 32,
   "metadata": {
    "tags": []
   },
   "outputs": [
    {
     "output_type": "stream",
     "name": "stdout",
     "text": "9.99 %\n"
    }
   ],
   "source": []
  },
  {
   "cell_type": "code",
   "execution_count": null,
   "metadata": {},
   "outputs": [],
   "source": []
  }
 ],
 "metadata": {
  "language_info": {
   "codemirror_mode": {
    "name": "ipython",
    "version": 3
   },
   "file_extension": ".py",
   "mimetype": "text/x-python",
   "name": "python",
   "nbconvert_exporter": "python",
   "pygments_lexer": "ipython3",
   "version": "3.8.2-final"
  },
  "orig_nbformat": 2,
  "kernelspec": {
   "name": "python38264bitecfb67be17b04bfa9b5cb26575a3b8d4",
   "display_name": "Python 3.8.2 64-bit"
  }
 },
 "nbformat": 4,
 "nbformat_minor": 2
}