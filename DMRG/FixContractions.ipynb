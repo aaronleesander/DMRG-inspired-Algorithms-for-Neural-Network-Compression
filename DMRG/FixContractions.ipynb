{
 "cells": [
  {
   "cell_type": "code",
   "execution_count": 1,
   "metadata": {},
   "outputs": [],
   "source": [
    "# Title: DMRG Ground State Search and Compression Algorithms\n",
    "# Author: Aaron Sander\n",
    "# Date: March-May 2020\n",
    "\n",
    "# This program is used for initial learning of tensor network methods\n",
    "# to be used in my bachelor thesis.\n",
    "# It is an implementation of the Density Matrix Renormalization Group (DMRG)\n",
    "# for the ground state search of a given Hamiltonian as an MPO as well as\n",
    "# for compressing an arbitrary quantum state which has relevant applications\n",
    "# in data compression and graph embedding.\n",
    "\n",
    "### NOTE: This code is written for learning purposes. It is not meant\n",
    "###       to be optimized for speed/efficiency, but has readability in mind."
   ]
  },
  {
   "cell_type": "code",
   "execution_count": 2,
   "metadata": {},
   "outputs": [],
   "source": [
    "######################### IMPORTS #############################################\n",
    "#from canonical_forms import *\n",
    "from compression import *\n",
    "from contractions import *\n",
    "import initializations as init\n",
    "from metrics import *\n",
    "import machine_learning as ML\n",
    "import activation_functions as act\n",
    "\n",
    "import ground_state_search as gnd\n",
    "\n",
    "import numpy as np\n",
    "import math"
   ]
  },
  {
   "cell_type": "code",
   "execution_count": 3,
   "metadata": {},
   "outputs": [],
   "source": [
    "data = init.initialize_random_normed_vector(length=512)"
   ]
  },
  {
   "cell_type": "code",
   "execution_count": 22,
   "metadata": {},
   "outputs": [],
   "source": [
    "def vector_to_left_canonical_MPS(tensor, phys_dim, num_sites):\n",
    "    \"\"\" Decomposes a vector of length d^L (phys_dim^num_sites) into a\n",
    "        left-canonical MPS. Final site will not be canonical due to\n",
    "        original norm\n",
    "\n",
    "    Args:\n",
    "        tensor: Vector of length that can be described by d^L (Ex: 512 = 2^9)\n",
    "        phys_dim: Physical dimension necessary on MPS (d)\n",
    "        num_sites: Number of sites necessary (L)\n",
    "\n",
    "    Returns:\n",
    "        A_tensors: Left canonical form of input MPS\n",
    "    \"\"\"\n",
    "    # Rank set to 1 for first calculation to work in loop\n",
    "    A_tensors = []\n",
    "    rank = 1\n",
    "\n",
    "    for i in range(1, num_sites):\n",
    "        # Remove one leg such that tensor has shape (d, d^(L-1)) with L sites\n",
    "        reshaped_tensor = np.reshape(tensor, (rank*phys_dim,\n",
    "                                              phys_dim**(num_sites-i)))\n",
    "\n",
    "        # SVD and save the rank for the next iteration of the loop\n",
    "        U, S_vector, V = np.linalg.svd(reshaped_tensor, full_matrices=False)\n",
    "        rank = len(S_vector)\n",
    "\n",
    "        if i == 1:\n",
    "            # No need to reshape since U is already a left-canonical matrix\n",
    "            A_tensors.append(U)\n",
    "        else:\n",
    "            # Break apart first leg of U into a left bond dimension\n",
    "            # and physical dimension\n",
    "            ################################################################\n",
    "            #U = np.reshape(U, (rank, phys_dim, U.shape[1]))\n",
    "            #U = np.transpose(U, (0, 2, 1))\n",
    "\n",
    "            #U = np.reshape(U, (phys_dim, A_tensors[-1].shape[1], U.shape[1]))\n",
    "            #U = np.transpose(U, (1, 2, 0))\n",
    "\n",
    "            U = np.reshape(U, (A_tensors[-1].shape[1], phys_dim, U.shape[1]))\n",
    "            ################################################################\n",
    "            # Transpose so that we have the correct shape\n",
    "            # (left bond, right bond, physical dimension)\n",
    "            U = np.transpose(U, (0, 2, 1))\n",
    "            A_tensors.append(U)\n",
    "\n",
    "        # We recreate the tensor with the remaining legs\n",
    "        tensor = np.diag(S_vector) @ V\n",
    "\n",
    "    # Final A tensor is the remaining tensor after all other legs removed\n",
    "    A_tensors.append(tensor.T)\n",
    "    return A_tensors"
   ]
  },
  {
   "cell_type": "code",
   "execution_count": 23,
   "metadata": {},
   "outputs": [],
   "source": [
    "d = 2\n",
    "raw_state = vector_to_left_canonical_MPS(data, phys_dim=d, num_sites=int(math.log(len(data), d)))"
   ]
  },
  {
   "cell_type": "code",
   "execution_count": 24,
   "metadata": {},
   "outputs": [],
   "source": [
    "### Following 2 contractions are equivalent\n",
    "\n",
    "temp = contract_horizontal(raw_state[0], raw_state[1], 'right')\n",
    "temp = contract_horizontal(temp, raw_state[2], 'right')\n",
    "temp = contract_horizontal(temp, raw_state[3], 'right')\n",
    "temp = contract_horizontal(temp, raw_state[4], 'right')\n",
    "temp = contract_horizontal(temp, raw_state[5], 'right')\n",
    "temp = contract_horizontal(temp, raw_state[6], 'right')\n",
    "temp = contract_horizontal(temp, raw_state[7], 'right')\n",
    "temp = contract_horizontal(temp, raw_state[8], 'right')"
   ]
  },
  {
   "cell_type": "code",
   "execution_count": 25,
   "metadata": {
    "tags": []
   },
   "outputs": [
    {
     "output_type": "stream",
     "name": "stdout",
     "text": "True\nTrue\nTrue\nTrue\nTrue\nTrue\nTrue\nTrue\nTrue\nTrue\nTrue\nTrue\nTrue\nTrue\nTrue\nTrue\nTrue\nTrue\nTrue\nTrue\nTrue\nTrue\nTrue\nTrue\nTrue\nTrue\nTrue\nTrue\nTrue\nTrue\nTrue\nTrue\nTrue\nTrue\nTrue\nTrue\nTrue\nTrue\nTrue\nTrue\nTrue\nTrue\nTrue\nTrue\nTrue\nTrue\nTrue\nTrue\nTrue\nTrue\nTrue\nTrue\nTrue\nTrue\nTrue\nTrue\nTrue\nTrue\nTrue\nTrue\nTrue\nTrue\nTrue\nTrue\nTrue\nTrue\nTrue\nTrue\nTrue\nTrue\nTrue\nTrue\nTrue\nTrue\nTrue\nTrue\nTrue\nTrue\nTrue\nTrue\nTrue\nTrue\nTrue\nTrue\nTrue\nTrue\nTrue\nTrue\nTrue\nTrue\nTrue\nTrue\nTrue\nTrue\nTrue\nTrue\nTrue\nTrue\nTrue\nTrue\nTrue\nTrue\nTrue\nTrue\nTrue\nTrue\nTrue\nTrue\nTrue\nTrue\nTrue\nTrue\nTrue\nTrue\nTrue\nTrue\nTrue\nTrue\nTrue\nTrue\nTrue\nTrue\nTrue\nTrue\nTrue\nTrue\nTrue\nTrue\nTrue\nTrue\nTrue\nTrue\nTrue\nTrue\nTrue\nTrue\nTrue\nTrue\nTrue\nTrue\nTrue\nTrue\nTrue\nTrue\nTrue\nTrue\nTrue\nTrue\nTrue\nTrue\nTrue\nTrue\nTrue\nTrue\nTrue\nTrue\nTrue\nTrue\nTrue\nTrue\nTrue\nTrue\nTrue\nTrue\nTrue\nTrue\nTrue\nTrue\nTrue\nTrue\nTrue\nTrue\nTrue\nTrue\nTrue\nTrue\nTrue\nTrue\nTrue\nTrue\nTrue\nTrue\nTrue\nTrue\nTrue\nTrue\nTrue\nTrue\nTrue\nTrue\nTrue\nTrue\nTrue\nTrue\nTrue\nTrue\nTrue\nTrue\nTrue\nTrue\nTrue\nTrue\nTrue\nTrue\nTrue\nTrue\nTrue\nTrue\nTrue\nTrue\nTrue\nTrue\nTrue\nTrue\nTrue\nTrue\nTrue\nTrue\nTrue\nTrue\nTrue\nTrue\nTrue\nTrue\nTrue\nTrue\nTrue\nTrue\nTrue\nTrue\nTrue\nTrue\nTrue\nTrue\nTrue\nTrue\nTrue\nTrue\nTrue\nTrue\nTrue\nTrue\nTrue\nTrue\nTrue\nTrue\nTrue\nTrue\nTrue\nTrue\nTrue\nTrue\nTrue\nTrue\nTrue\nTrue\nTrue\nTrue\nTrue\nTrue\nTrue\nTrue\nTrue\nTrue\nTrue\nTrue\nTrue\nTrue\nTrue\nTrue\nTrue\nTrue\nTrue\nTrue\nTrue\nTrue\nTrue\nTrue\nTrue\nTrue\nTrue\nTrue\nTrue\nTrue\nTrue\nTrue\nTrue\nTrue\nTrue\nTrue\nTrue\nTrue\nTrue\nTrue\nTrue\nTrue\nTrue\nTrue\nTrue\nTrue\nTrue\nTrue\nTrue\nTrue\nTrue\nTrue\nTrue\nTrue\nTrue\nTrue\nTrue\nTrue\nTrue\nTrue\nTrue\nTrue\nTrue\nTrue\nTrue\nTrue\nTrue\nTrue\nTrue\nTrue\nTrue\nTrue\nTrue\nTrue\nTrue\nTrue\nTrue\nTrue\nTrue\nTrue\nTrue\nTrue\nTrue\nTrue\nTrue\nTrue\nTrue\nTrue\nTrue\nTrue\nTrue\nTrue\nTrue\nTrue\nTrue\nTrue\nTrue\nTrue\nTrue\nTrue\nTrue\nTrue\nTrue\nTrue\nTrue\nTrue\nTrue\nTrue\nTrue\nTrue\nTrue\nTrue\nTrue\nTrue\nTrue\nTrue\nTrue\nTrue\nTrue\nTrue\nTrue\nTrue\nTrue\nTrue\nTrue\nTrue\nTrue\nTrue\nTrue\nTrue\nTrue\nTrue\nTrue\nTrue\nTrue\nTrue\nTrue\nTrue\nTrue\nTrue\nTrue\nTrue\nTrue\nTrue\nTrue\nTrue\nTrue\nTrue\nTrue\nTrue\nTrue\nTrue\nTrue\nTrue\nTrue\nTrue\nTrue\nTrue\nTrue\nTrue\nTrue\nTrue\nTrue\nTrue\nTrue\nTrue\nTrue\nTrue\nTrue\nTrue\nTrue\nTrue\nTrue\nTrue\nTrue\nTrue\nTrue\nTrue\nTrue\nTrue\nTrue\nTrue\nTrue\nTrue\nTrue\nTrue\nTrue\nTrue\nTrue\nTrue\nTrue\nTrue\nTrue\nTrue\nTrue\nTrue\nTrue\nTrue\nTrue\nTrue\nTrue\nTrue\nTrue\nTrue\nTrue\nTrue\nTrue\nTrue\nTrue\nTrue\nTrue\nTrue\nTrue\nTrue\nTrue\nTrue\nTrue\nTrue\nTrue\nTrue\nTrue\nTrue\nTrue\nTrue\nTrue\nTrue\nTrue\nTrue\nTrue\nTrue\nTrue\nTrue\nTrue\nTrue\nTrue\nTrue\nTrue\nTrue\nTrue\nTrue\nTrue\nTrue\nTrue\nTrue\nTrue\nTrue\nTrue\nTrue\nTrue\nTrue\nTrue\nTrue\nTrue\nTrue\nTrue\nTrue\nTrue\nTrue\n"
    }
   ],
   "source": [
    "for i in range(512):\n",
    "    if np.abs(temp[i] - data[i]) < 1e-8:\n",
    "        print(True)"
   ]
  },
  {
   "cell_type": "code",
   "execution_count": null,
   "metadata": {},
   "outputs": [],
   "source": []
  }
 ],
 "metadata": {
  "kernelspec": {
   "display_name": "Python 3.8.2 64-bit",
   "language": "python",
   "name": "python38264bitecfb67be17b04bfa9b5cb26575a3b8d4"
  },
  "language_info": {
   "codemirror_mode": {
    "name": "ipython",
    "version": 3
   },
   "file_extension": ".py",
   "mimetype": "text/x-python",
   "name": "python",
   "nbconvert_exporter": "python",
   "pygments_lexer": "ipython3",
   "version": "3.8.2-final"
  }
 },
 "nbformat": 4,
 "nbformat_minor": 4
}