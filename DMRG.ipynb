{
 "cells": [
  {
   "cell_type": "code",
   "execution_count": 1,
   "metadata": {},
   "outputs": [],
   "source": [
    "# Title: DMRG for Bachelor Thesis\n",
    "# Author: Aaron Sander\n",
    "# Date: March 2020\n",
    "\n",
    "# This program is used for initial learning of tensor network methods to be used\n",
    "# in my bachelor thesis.\n",
    "# It is an implementation of Matrix Product States (MPS) and Density Matrix\n",
    "# Renormalization Group (DMRG) for finding the ground state of an arbitrary\n",
    "# Hamiltonian"
   ]
  },
  {
   "cell_type": "code",
   "execution_count": 2,
   "metadata": {},
   "outputs": [],
   "source": [
    "######################### IMPORTS ##############################################\n",
    "import numpy as np"
   ]
  },
  {
   "cell_type": "code",
   "execution_count": 3,
   "metadata": {},
   "outputs": [],
   "source": [
    "######################## CLASSES ##############################################\n",
    "class MPO:\n",
    "    def __init__(self, left_bound, inner, right_bound):\n",
    "        # Leftmost lattice position\n",
    "        self.left_bound = left_bound\n",
    "        # Middle lattice positions\n",
    "        self.inner = inner\n",
    "        # Rightmost lattice position\n",
    "        self.right_bound = right_bound\n",
    "\n",
    "class MPS:\n",
    "    def __init__(self, left_bound, inner, right_bound):\n",
    "        self.left_bound = left_bound\n",
    "        self.inner = inner\n",
    "        self.right_bound = right_bound"
   ]
  },
  {
   "cell_type": "code",
   "execution_count": 4,
   "metadata": {},
   "outputs": [],
   "source": [
    "###################### FUNCTIONS ##############################################\n",
    "# Used to contract Hamiltonian horizontally from A->B\n",
    "def contract_horizontal(A, B, pos, dir):\n",
    "    if B.ndim == 4:  # Inner lattice positions\n",
    "        if dir == 'right':\n",
    "            tensor = np.einsum('ijk, iabc->ajbkc', A, B)\n",
    "        if dir == 'left':  # Can be replaced with else, if for readability\n",
    "            tensor = np.einsum('ijk, aibc->ajbkc', A, B)\n",
    "        # Reshape collapses indices to (a, j*b, k*c) for i particles\n",
    "        tensor = np.reshape(tensor, (3, 2**pos, 2**pos))\n",
    "\n",
    "    if B.ndim == 3:  # Final lattice position\n",
    "        if dir == 'right' or 'left':  # Seems to be direction-independent\n",
    "            tensor = np.einsum('ijk, iab->jakb', A, B)\n",
    "        # Reshape collapses indices to (j*a, k*b) for i particles\n",
    "        tensor = np.reshape(tensor, (2**pos, 2**pos))\n",
    "\n",
    "    return tensor\n",
    "\n",
    "def contract_vertical(A, B, pos, dir):\n",
    "    if B.ndim == 3:\n",
    "        if dir == 'down':  # From Bra->Operator->Ket\n",
    "            tensor = np.einsum('ij, abj->aib', A, B)\n",
    "            tensor = np.reshape(tensor, (A.shape[0]*B.shape[0], B.shape[1]))\n",
    "        if dir == 'up':  # From Ket->Operator->Bra\n",
    "            tensor = np.einsum('ij, aib->ajb', A, B)\n",
    "            tensor = np.reshape(tensor, (A.shape[1]*B.shape[0], B.shape[2]))\n",
    "    if B.ndim == 2:\n",
    "        if dir == 'down':\n",
    "            tensor = np.einsum('ij, ja->ia', A, B)\n",
    "            tensor = np.reshape(tensor, (A.shape[0]*B.shape[1]))\n",
    "        if dir == 'up':\n",
    "            tensor = np.einsum('ij, aj->ia', A, B)           \n",
    "            tensor = np.reshape(tensor, (A.shape[0]*B.shape[0]))\n",
    "    return tensor\n",
    "\n",
    "# TODO: Verify correct reshape\n",
    "# TODO: Verify if final lattice position is direction-independent\n",
    "#       or if there is a mistake\n",
    "# TODO: Determine if vertical/horizontal can be generalized and combined\n",
    "# TODO: Generalize contract_horizontal\n",
    "# TODO: Use tensordot for better readability?\n",
    "# NOTE: In DMRG, the dimension of the final lattice position\n",
    "#       will be a good marker for when to reverse direction\n",
    "# NOTE: When collapsing with a wavefunction\n",
    "#       the tensor shape will be based on size of\n",
    "#       wavefunction matrices also, not just lattice pos"
   ]
  },
  {
   "cell_type": "code",
   "execution_count": 5,
   "metadata": {},
   "outputs": [],
   "source": [
    "##################### INITIALIZATION ###########################################\n",
    "# Operators\n",
    "pauli_z = np.array([[1, 0],\n",
    "                    [0, -1]])\n",
    "\n",
    "pauli_x = np.array([[0, 1],\n",
    "                    [1, 0]])\n",
    "\n",
    "zero = np.zeros((2, 2))\n",
    "identity = np.identity(2)\n",
    "# Interaction parameter\n",
    "g = 1\n",
    "# Particles (Total lattice positions)\n",
    "N = 3\n",
    "\n",
    "# Initialization of Hamiltonian MPO (entries done by hand)\n",
    "# Dimensions (1x3x2x2)->(3x2x2)\n",
    "left_bound = np.array([identity, pauli_z, g*pauli_x])\n",
    "\n",
    "# Dimensions (3x3x2x2)\n",
    "inner = np.array([np.array([identity, pauli_z, g*pauli_x]),\n",
    "                  np.array([zero, zero, pauli_z]),\n",
    "                  np.array([zero, zero, np.identity(2)])])\n",
    "\n",
    "# Dimensions (3x1x2x2)->3x2x2\n",
    "right_bound = np.array([[g*pauli_x],\n",
    "                        [pauli_z],\n",
    "                        [identity]])\n",
    "right_bound = np.squeeze(right_bound)  # Removes unnecessary index\n",
    "\n",
    "MPO = MPO(left_bound, inner, right_bound)"
   ]
  },
  {
   "cell_type": "code",
   "execution_count": 6,
   "metadata": {},
   "outputs": [
    {
     "output_type": "execute_result",
     "data": {
      "text/plain": "array([[ True,  True,  True,  True,  True,  True,  True,  True],\n       [ True,  True,  True,  True,  True,  True,  True,  True],\n       [ True,  True,  True,  True,  True,  True,  True,  True],\n       [ True,  True,  True,  True,  True,  True,  True,  True],\n       [ True,  True,  True,  True,  True,  True,  True,  True],\n       [ True,  True,  True,  True,  True,  True,  True,  True],\n       [ True,  True,  True,  True,  True,  True,  True,  True],\n       [ True,  True,  True,  True,  True,  True,  True,  True]])"
     },
     "metadata": {},
     "execution_count": 6
    }
   ],
   "source": [
    "##################### CONTRACT HAMILTONIAN L->R ###############################\n",
    "# Initialize with first lattice position\n",
    "tensor = MPO.left_bound\n",
    "# Loop over all the inner lattice positions\n",
    "for i in range(2, N):\n",
    "    tensor = contract_horizontal(tensor, MPO.inner, i, \"right\")\n",
    "# Final lattice position has different indices so is done alone\n",
    "E_L = contract_horizontal(tensor, MPO.right_bound, N, \"right\")\n",
    "\n",
    "##################### CONTRACT HAMILTONIAN L->R ###############################\n",
    "# Initialize with first lattice position\n",
    "tensor = MPO.right_bound\n",
    "# Loop over all the inner lattice positions\n",
    "for i in range(2, N):\n",
    "    tensor = contract_horizontal(tensor, MPO.inner, i, \"left\")\n",
    "# Final lattice position has different indices so is done alone\n",
    "E_R = contract_horizontal(tensor, MPO.left_bound, N, \"left\")\n",
    "\n",
    "E_L == E_R"
   ]
  },
  {
   "cell_type": "code",
   "execution_count": 7,
   "metadata": {},
   "outputs": [],
   "source": [
    "# TODO: Verify MPS can be contracted left<->right\n",
    "# We initialize each wavefunction matrix as:\n",
    "# A_1_ket = (|+>    A_i_ket = \n",
    "#            |->)\n",
    "d = 15\n",
    "\n",
    "up_ket = np.zeros((d, 1))\n",
    "up_ket[0,0] = 1\n",
    "down_ket = np.zeros((d, 1))\n",
    "down_ket[1,0] = 1\n",
    "\n",
    "# Dimensions (2 x d)\n",
    "A_1 = np.array([[up_ket],\n",
    "                [down_ket]])\n",
    "A_1 = np.squeeze(A_1)\n",
    "\n",
    "# Dimensions (d x 2)\n",
    "A_1_dagger = np.array(np.matrix(A_1).H)\n",
    "\n",
    "MPS_bra = MPS(A_1_dagger, 0 , 0)\n",
    "MPS_ket = MPS(A_1, 0, 0)"
   ]
  },
  {
   "cell_type": "code",
   "execution_count": 8,
   "metadata": {},
   "outputs": [
    {
     "output_type": "execute_result",
     "data": {
      "text/plain": "array([ True,  True,  True,  True,  True,  True,  True,  True,  True,\n        True,  True,  True,  True,  True,  True,  True,  True,  True,\n        True,  True,  True,  True,  True,  True,  True,  True,  True,\n        True,  True,  True,  True,  True,  True,  True,  True,  True,\n        True,  True,  True,  True,  True,  True,  True,  True,  True,\n        True,  True,  True,  True,  True,  True,  True,  True,  True,\n        True,  True,  True,  True,  True,  True,  True,  True,  True,\n        True,  True,  True,  True,  True,  True,  True,  True,  True,\n        True,  True,  True,  True,  True,  True,  True,  True,  True,\n        True,  True,  True,  True,  True,  True,  True,  True,  True,\n        True,  True,  True,  True,  True,  True,  True,  True,  True,\n        True,  True,  True,  True,  True,  True,  True,  True,  True,\n        True,  True,  True,  True,  True,  True,  True,  True,  True,\n        True,  True,  True,  True,  True,  True,  True,  True,  True,\n        True,  True,  True,  True,  True,  True,  True,  True,  True,\n        True,  True,  True,  True,  True,  True,  True,  True,  True,\n        True,  True,  True,  True,  True,  True,  True,  True,  True,\n        True,  True,  True,  True,  True,  True,  True,  True,  True,\n        True,  True,  True,  True,  True,  True,  True,  True,  True,\n        True,  True,  True,  True,  True,  True,  True,  True,  True,\n        True,  True,  True,  True,  True,  True,  True,  True,  True,\n        True,  True,  True,  True,  True,  True,  True,  True,  True,\n        True,  True,  True,  True,  True,  True,  True,  True,  True,\n        True,  True,  True,  True,  True,  True,  True,  True,  True,\n        True,  True,  True,  True,  True,  True,  True,  True,  True,\n        True,  True,  True,  True,  True,  True,  True,  True,  True,\n        True,  True,  True,  True,  True,  True,  True,  True,  True,\n        True,  True,  True,  True,  True,  True,  True,  True,  True,\n        True,  True,  True,  True,  True,  True,  True,  True,  True,\n        True,  True,  True,  True,  True,  True,  True,  True,  True,\n        True,  True,  True,  True,  True,  True,  True,  True,  True,\n        True,  True,  True,  True,  True,  True,  True,  True,  True,\n        True,  True,  True,  True,  True,  True,  True,  True,  True,\n        True,  True,  True,  True,  True,  True,  True,  True,  True,\n        True,  True,  True,  True,  True,  True,  True,  True,  True,\n        True,  True,  True,  True,  True,  True,  True,  True,  True,\n        True,  True,  True,  True,  True,  True,  True,  True,  True,\n        True,  True,  True,  True,  True,  True,  True,  True,  True,\n        True,  True,  True,  True,  True,  True,  True,  True,  True,\n        True,  True,  True,  True,  True,  True,  True,  True,  True,\n        True,  True,  True,  True,  True,  True,  True,  True,  True,\n        True,  True,  True,  True,  True,  True,  True,  True,  True,\n        True,  True,  True,  True,  True,  True,  True,  True,  True,\n        True,  True,  True,  True,  True,  True,  True,  True,  True,\n        True,  True,  True,  True,  True,  True,  True,  True,  True,\n        True,  True,  True,  True,  True,  True,  True,  True,  True,\n        True,  True,  True,  True,  True,  True,  True,  True,  True,\n        True,  True,  True,  True,  True,  True,  True,  True,  True,\n        True,  True,  True,  True,  True,  True,  True,  True,  True,\n        True,  True,  True,  True,  True,  True,  True,  True,  True,\n        True,  True,  True,  True,  True,  True,  True,  True,  True,\n        True,  True,  True,  True,  True,  True,  True,  True,  True,\n        True,  True,  True,  True,  True,  True,  True,  True,  True,\n        True,  True,  True,  True,  True,  True,  True,  True,  True,\n        True,  True,  True,  True,  True,  True,  True,  True,  True,\n        True,  True,  True,  True,  True,  True,  True,  True,  True,\n        True,  True,  True,  True,  True,  True,  True,  True,  True,\n        True,  True,  True,  True,  True,  True,  True,  True,  True,\n        True,  True,  True,  True,  True,  True,  True,  True,  True,\n        True,  True,  True,  True,  True,  True,  True,  True,  True,\n        True,  True,  True,  True,  True,  True,  True,  True,  True,\n        True,  True,  True,  True,  True,  True,  True,  True,  True,\n        True,  True,  True,  True,  True,  True,  True,  True,  True,\n        True,  True,  True,  True,  True,  True,  True,  True,  True,\n        True,  True,  True,  True,  True,  True,  True,  True,  True,\n        True,  True,  True,  True,  True,  True,  True,  True,  True,\n        True,  True,  True,  True,  True,  True,  True,  True,  True,\n        True,  True,  True,  True,  True,  True,  True,  True,  True,\n        True,  True,  True,  True,  True,  True,  True,  True,  True,\n        True,  True,  True,  True,  True,  True,  True,  True,  True,\n        True,  True,  True,  True,  True,  True,  True,  True,  True,\n        True,  True,  True,  True,  True,  True,  True,  True,  True,\n        True,  True,  True,  True,  True,  True,  True,  True,  True,\n        True,  True,  True,  True,  True,  True,  True,  True,  True,\n        True,  True,  True,  True,  True,  True,  True,  True,  True])"
     },
     "metadata": {},
     "execution_count": 8
    }
   ],
   "source": [
    "####################### CONTRACT FIRST LATTICE POSITION DOWNWARDS #################\n",
    "# Dimensions (3*d x 2)\n",
    "first_collapse = contract_vertical(MPS_bra.left_bound, MPO.left_bound, 1, 'down')\n",
    "# Dimensions (3*d*d)\n",
    "last_collapse_down = contract_vertical(first_collapse, MPS_ket.left_bound, 1, 'down')\n",
    "\n",
    "####################### CONTRACT FIRST LATTICE POSITION UPWARDS ###################\n",
    "# Dimensions (3*d x 2)\n",
    "first_collapse = contract_vertical(MPS_ket.left_bound, MPO.left_bound, 1, 'up')\n",
    "# Dimensions (3*d*d)\n",
    "last_collapse_up = contract_vertical(first_collapse, MPS_bra.left_bound, 1, 'up')\n",
    "\n",
    "last_collapse_down == last_collapse_up"
   ]
  },
  {
   "cell_type": "code",
   "execution_count": null,
   "metadata": {},
   "outputs": [],
   "source": []
  }
 ],
 "metadata": {
  "kernelspec": {
   "display_name": "Python 3",
   "language": "python",
   "name": "python3"
  },
  "language_info": {
   "codemirror_mode": {
    "name": "ipython",
    "version": 3
   },
   "file_extension": ".py",
   "mimetype": "text/x-python",
   "name": "python",
   "nbconvert_exporter": "python",
   "pygments_lexer": "ipython3",
   "version": "3.8.2-final"
  }
 },
 "nbformat": 4,
 "nbformat_minor": 4
}