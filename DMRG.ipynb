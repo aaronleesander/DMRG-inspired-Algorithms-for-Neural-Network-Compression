{
 "cells": [
  {
   "cell_type": "code",
   "execution_count": null,
   "metadata": {},
   "outputs": [],
   "source": [
    "# Title: DMRG for Bachelor Thesis\n",
    "# Author: Aaron Sander\n",
    "# Date: March 2020\n",
    "\n",
    "# This program is used for initial learning of tensor network methods to be used\n",
    "# in my bachelor thesis.\n",
    "# It is an implementation of Matrix Product States (MPS) and Density Matrix\n",
    "# Renormalization Group (DMRG) for finding the ground state of an arbitrary\n",
    "# Hamiltonian"
   ]
  },
  {
   "cell_type": "code",
   "execution_count": 7,
   "metadata": {},
   "outputs": [],
   "source": [
    "import numpy as np"
   ]
  },
  {
   "cell_type": "code",
   "execution_count": 8,
   "metadata": {},
   "outputs": [],
   "source": [
    "class Hamiltonian:\n",
    "    def __init__(self, left_bound, inner, right_bound):\n",
    "        # Leftmost lattice position \n",
    "        self.left_bound = left_bound\n",
    "        # Middle lattice positions \n",
    "        self.inner = inner\n",
    "        # Rightmost lattice position \n",
    "        self.right_bound = right_bound\n",
    "\n",
    "\n",
    "### TODO: Define Wavefunction class"
   ]
  },
  {
   "cell_type": "code",
   "execution_count": 9,
   "metadata": {},
   "outputs": [],
   "source": [
    "# Used to contract Hamiltonian in direction A -> B\n",
    "def contract(A, B, pos):\n",
    "    if B.ndim == 4: # Inner lattice positions\n",
    "        tensor = np.einsum('ijk,aibc->ajbkc', A, B)\n",
    "        tensor = np.reshape(tensor, (3,2**pos,2**pos)) # Collapses indices to (c, a*j, b*k) for i particles\n",
    "                                                       # TODO: Verify correct reshape\n",
    "    if B.ndim == 3: # Final lattice position\n",
    "        tensor = np.einsum('ijk,iab->jkab', A, B)\n",
    "        tensor = np.reshape(tensor, (2**pos,2**pos))\n",
    "\n",
    "    return tensor"
   ]
  },
  {
   "cell_type": "code",
   "execution_count": 10,
   "metadata": {},
   "outputs": [],
   "source": [
    "# Initialization\n",
    "pauli_z = np.array([[1,0],\n",
    "                    [0,-1]])\n",
    "\n",
    "pauli_x = np.array([[0,1],\n",
    "                    [1,0]])\n",
    "\n",
    "zero = np.zeros((2,2))\n",
    "identity = np.identity(2)\n",
    "# Interaction parameter\n",
    "g = 1\n",
    "# Lattice positions\n",
    "N = 10\n",
    "\n",
    "# Initialization of Hamiltonian\n",
    "# Done using Matrix Product States by hand\n",
    "\n",
    "# Dimensions (1x3x2x2)->(3x2x2)\n",
    "left_bound = np.array([identity, pauli_z, g*pauli_x])\n",
    "\n",
    "# Dimensions (3x3x2x2)\n",
    "inner = np.array([np.array([identity, pauli_z, g*pauli_x]),\n",
    "                   np.array([zero, zero, pauli_z]),\n",
    "                   np.array([zero, zero, np.identity(2)])])\n",
    "\n",
    "# Dimensions (3x1x2x2)->3x2x2 \n",
    "right_bound = np.array([[g*pauli_x],\n",
    "                        [pauli_z],\n",
    "                        [identity]])\n",
    "right_bound = np.squeeze(right_bound) # Removes unnecessary index \n",
    "\n",
    "H = Hamiltonian(left_bound, inner, right_bound)"
   ]
  },
  {
   "cell_type": "code",
   "execution_count": 12,
   "metadata": {},
   "outputs": [],
   "source": [
    "# Initialize with first lattice position\n",
    "tensor = H.left_bound\n",
    "# Loop over all the inner lattice positions\n",
    "for i in range(2, N):\n",
    "     tensor = contract(tensor, H.inner, i)\n",
    "# Final lattice position has different indices so is done alone\n",
    "E = contract(tensor, H.right_bound, N)"
   ]
  },
  {
   "cell_type": "code",
   "execution_count": null,
   "metadata": {},
   "outputs": [],
   "source": []
  }
 ],
 "metadata": {
  "kernelspec": {
   "display_name": "Python 3",
   "language": "python",
   "name": "python3"
  },
  "language_info": {
   "codemirror_mode": {
    "name": "ipython",
    "version": 3
   },
   "file_extension": ".py",
   "mimetype": "text/x-python",
   "name": "python",
   "nbconvert_exporter": "python",
   "pygments_lexer": "ipython3",
   "version": "3.8.2-final"
  }
 },
 "nbformat": 4,
 "nbformat_minor": 4
}