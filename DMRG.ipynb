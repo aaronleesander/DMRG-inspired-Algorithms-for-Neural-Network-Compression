{
 "cells": [
  {
   "cell_type": "code",
   "execution_count": 2,
   "metadata": {},
   "outputs": [],
   "source": [
    "import numpy as np"
   ]
  },
  {
   "cell_type": "code",
   "execution_count": 91,
   "metadata": {},
   "outputs": [],
   "source": [
    "# Initialization\n",
    "pauli_z = np.array([[1,0],\n",
    "                    [0,-1]])\n",
    "\n",
    "pauli_x = np.array([[0,1],\n",
    "                   [1,0]])\n",
    "\n",
    "zero = np.zeros((2,2))\n",
    "\n",
    "identity = np.identity(2)\n",
    "\n",
    "g = 1\n",
    "\n",
    "class Hamiltonian:\n",
    "    # Matrix Product States\n",
    "    # First lattice position (1x3x2x2)\n",
    "    left_bound = np.array([identity, pauli_z, g*pauli_x])\n",
    "    left_bound = left_bound[np.newaxis, :] # Reshape to add the first index\n",
    "    \n",
    "    # Middle lattice positions (3x3x2x2)\n",
    "    middle = np.array([np.array([identity, pauli_z, g*pauli_x]),\n",
    "                       np.array([zero, zero, pauli_z]),\n",
    "                       np.array([zero, zero, np.identity(2)])])\n",
    "\n",
    "    # Last lattice position (3x1x2x2)\n",
    "    right_bound = np.array([[g*pauli_x],\n",
    "                               [pauli_z],\n",
    "                               [identity]])"
   ]
  },
  {
   "cell_type": "code",
   "execution_count": 92,
   "metadata": {},
   "outputs": [
    {
     "data": {
      "text/plain": [
       "(1, 3, 2, 2)"
      ]
     },
     "execution_count": 92,
     "metadata": {},
     "output_type": "execute_result"
    }
   ],
   "source": [
    "H = Hamiltonian()"
   ]
  }
 ],
 "metadata": {
  "kernelspec": {
   "display_name": "Python 3",
   "language": "python",
   "name": "python3"
  },
  "language_info": {
   "codemirror_mode": {
    "name": "ipython",
    "version": 3
   },
   "file_extension": ".py",
   "mimetype": "text/x-python",
   "name": "python",
   "nbconvert_exporter": "python",
   "pygments_lexer": "ipython3",
   "version": "3.8.2"
  }
 },
 "nbformat": 4,
 "nbformat_minor": 4
}
