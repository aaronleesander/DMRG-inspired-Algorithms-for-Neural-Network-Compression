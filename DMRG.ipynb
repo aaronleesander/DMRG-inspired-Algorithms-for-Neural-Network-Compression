{
 "cells": [
  {
   "cell_type": "code",
   "execution_count": 38,
   "metadata": {},
   "outputs": [],
   "source": [
    "import numpy as np"
   ]
  },
  {
   "cell_type": "code",
   "execution_count": 44,
   "metadata": {},
   "outputs": [],
   "source": [
    "# Initialization\n",
    "pauli_z = np.array([[1,0],\n",
    "                    [0,-1]])\n",
    "\n",
    "pauli_x = np.array([[0,1],\n",
    "                   [1,0]])\n",
    "\n",
    "zero = np.zeros((2,2))\n",
    "\n",
    "identity = np.identity(2)\n",
    "\n",
    "# Interaction parameter\n",
    "g = 1\n",
    "# Lattice positions\n",
    "N = 10"
   ]
  },
  {
   "cell_type": "code",
   "execution_count": 45,
   "metadata": {},
   "outputs": [],
   "source": [
    "class Hamiltonian:\n",
    "    # Matrix Product States\n",
    "    # First lattice position (1x3x2x2)->(3x2x2)\n",
    "    left_bound = np.array([identity, pauli_z, g*pauli_x])\n",
    "    \n",
    "    # Middle lattice positions (3x3x2x2)\n",
    "    middle = np.array([np.array([identity, pauli_z, g*pauli_x]),\n",
    "                       np.array([zero, zero, pauli_z]),\n",
    "                       np.array([zero, zero, np.identity(2)])])\n",
    "\n",
    "    # Last lattice position (3x1x2x2)->3x2x2\n",
    "    right_bound = np.array([[g*pauli_x],\n",
    "                               [pauli_z],\n",
    "                               [identity]])\n",
    "    right_bound = np.squeeze(right_bound) # Removes unnecessary index \n",
    "\n",
    "### TODO: Define Wavefunction"
   ]
  },
  {
   "cell_type": "code",
   "execution_count": 46,
   "metadata": {},
   "outputs": [],
   "source": [
    "def contract_from_left(A, B, pos):\n",
    "    if B.ndim == 4: # Inner lattice positions\n",
    "        tensor = np.einsum('ijk,aibc->ajbkc', A, B)\n",
    "        tensor = np.reshape(tensor, (3,2**pos,2**pos)) # Collapses indices to (c, a*j, b*k) for i particles\n",
    "                                                       # TODO: Verify correct reshape\n",
    "    if B.ndim == 3: # Final lattice position\n",
    "        tensor = np.einsum('ijk,iab->jkab', A, B)\n",
    "        tensor = np.reshape(tensor, (2**pos,2**pos))\n",
    "\n",
    "    return tensor"
   ]
  },
  {
   "cell_type": "code",
   "execution_count": 47,
   "metadata": {},
   "outputs": [],
   "source": [
    "H = Hamiltonian()"
   ]
  },
  {
   "cell_type": "code",
   "execution_count": 48,
   "metadata": {},
   "outputs": [
    {
     "output_type": "execute_result",
     "data": {
      "text/plain": "(1024, 1024)"
     },
     "metadata": {},
     "execution_count": 48
    }
   ],
   "source": [
    "# Initialize with first lattice position\n",
    "tensor = H.left_bound\n",
    "# Loop over all the inner lattice positions\n",
    "for i in range(2, N):\n",
    "     tensor = contract_from_left(tensor, H.middle, i)\n",
    "# Final lattice position has different indices so is done alone\n",
    "E = contract_from_left(tensor, H.right_bound, N)"
   ]
  },
  {
   "cell_type": "code",
   "execution_count": null,
   "metadata": {},
   "outputs": [],
   "source": []
  },
  {
   "cell_type": "code",
   "execution_count": null,
   "metadata": {},
   "outputs": [],
   "source": []
  }
 ],
 "metadata": {
  "kernelspec": {
   "display_name": "Python 3",
   "language": "python",
   "name": "python3"
  },
  "language_info": {
   "codemirror_mode": {
    "name": "ipython",
    "version": 3
   },
   "file_extension": ".py",
   "mimetype": "text/x-python",
   "name": "python",
   "nbconvert_exporter": "python",
   "pygments_lexer": "ipython3",
   "version": "3.8.2-final"
  }
 },
 "nbformat": 4,
 "nbformat_minor": 4
}