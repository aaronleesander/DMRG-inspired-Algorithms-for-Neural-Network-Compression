{
 "cells": [
  {
   "cell_type": "code",
   "execution_count": 1,
   "metadata": {},
   "outputs": [],
   "source": [
    "# Title: DMRG for Bachelor Thesis\n",
    "# Author: Aaron Sander\n",
    "# Date: March 2020\n",
    "\n",
    "# This program is used for initial learning of tensor network methods\n",
    "# to be used in my bachelor thesis.\n",
    "# It is an implementation of Matrix Product States (MPS) and Density Matrix\n",
    "# Renormalization Group (DMRG) for finding the ground state of an arbitrary\n",
    "# Hamiltonian"
   ]
  },
  {
   "cell_type": "code",
   "execution_count": 2,
   "metadata": {},
   "outputs": [],
   "source": [
    "######################### IMPORTS #############################################\n",
    "import numpy as np"
   ]
  },
  {
   "cell_type": "code",
   "execution_count": 3,
   "metadata": {},
   "outputs": [],
   "source": [
    "######################## CLASSES ##############################################\n",
    "class matrixProductOperator:\n",
    "    def __init__(self, left_bound, inner, right_bound):\n",
    "        # Leftmost lattice position\n",
    "        self.left_bound = left_bound\n",
    "        # Middle lattice positions\n",
    "        self.inner = inner\n",
    "        # Rightmost lattice position\n",
    "        self.right_bound = right_bound\n",
    "\n",
    "\n",
    "class matrixProductState:\n",
    "    def __init__(self, left_bound, inner, right_bound):\n",
    "        self.left_bound = left_bound\n",
    "        self.inner = inner\n",
    "        self.right_bound = right_bound"
   ]
  },
  {
   "cell_type": "code",
   "execution_count": 4,
   "metadata": {},
   "outputs": [],
   "source": [
    "###################### FUNCTIONS ##############################################\n",
    "# Used to contract tensors horizontally from A->B\n",
    "# All 2 dimensional tensors have dimensions (ij) or (ab)\n",
    "# All 3 dimensional tensors have dimensions (ijk) or (abc)\n",
    "# All 4 dimensional tensors have dimensions (ijkl) or (abcd)\n",
    "\n",
    "# Examples:\n",
    "# 4-tensor: Inner MPO\n",
    "# 3-tensor: Inner MPS, Outer MPO, Half contracted inner MPO-MPS\n",
    "# 2-tensor: Outer MPS, Half contracted outer MPO-MPS, Fully contracted lattice point\n",
    "\n",
    "# This all works assuming the MPS has form (2 x d), (d x d x 2), (2 x d)\n",
    "\n",
    "# How to read: If we are at tensor A, what other tensor B can I contract with?\n",
    "def contract_horizontal(A, B, dir):\n",
    "    if A.ndim == 3:\n",
    "        if B.ndim == 4: \n",
    "            if dir =='right':\n",
    "                tensor = np.einsum('ijk, ibcd->bjckd', A, B)\n",
    "                # Reshape to (b, j*c, k*d)\n",
    "                tensor = np.reshape(tensor, (B.shape[1], A.shape[1]*B.shape[2], A.shape[2]*B.shape[3]))\n",
    "            elif dir == 'left':\n",
    "                tensor = np.einsum('ijk, aicd->ajckd', A, B)\n",
    "                # Reshape to (a, j*c, k*d)\n",
    "                tensor = np.reshape(tensor, (B.shape[0], A.shape[1]*B.shape[2], A.shape[2]*B.shape[3]))\n",
    "        elif B.ndim == 3: # Used for contraction of MPO itself\n",
    "            if dir == 'right' or 'left':  # Can be removed, left for readability\n",
    "                tensor = np.einsum('ijk, ibc->jbkc', A, B)\n",
    "                # Reshape collapses indices to (j*b, k*c)\n",
    "                tensor = np.reshape(tensor, (A.shape[1]*B.shape[1], A.shape[2]*B.shape[2]))\n",
    "    \n",
    "    elif A.ndim == 2:\n",
    "        if B.ndim == 3:\n",
    "            if dir == 'right':\n",
    "                tensor = np.einsum('ij, jbc->icb', A, B)\n",
    "                # Reshape to (i*c, b)\n",
    "                tensor = np.reshape(tensor, (A.shape[0]*B.shape[2], B.shape[1]))\n",
    "            elif dir == 'left':\n",
    "                tensor = np.einsum('ij, ajc->ica', A, B)\n",
    "                # Reshape to (i*c, a)\n",
    "                tensor = np.reshape(tensor, (A.shape[0]*B.shape[2], B.shape[0]))\n",
    "        elif B.ndim == 2:\n",
    "            if dir == 'right' or 'left': # Direction independent since both MPS edges are (2 x d)\n",
    "                tensor = np.einsum('ij, aj->ia', A, B)\n",
    "                # Reshape to (i*b)\n",
    "                tensor = np.reshape(tensor, (A.shape[0]*B.shape[0]))\n",
    "\n",
    "    elif A.ndim == 1:\n",
    "        if B.ndim == 2: # Final contraction before scalar product\n",
    "            if dir == 'right':\n",
    "                tensor = np.einsum('i, ib->b', A, B)\n",
    "            elif dir == 'left':\n",
    "                tensor = np.einsum('i, ai->a', A, B)\n",
    "        elif B.ndim == 1: # Inner product\n",
    "            tensor = np.einsum('i, i', A, B)\n",
    "\n",
    "    return tensor\n",
    "\n",
    "\n",
    "def contract_vertical(A, B, dir):\n",
    "    if A.ndim == 3:\n",
    "        if B.ndim == 4:\n",
    "            if dir == 'down' or 'up':\n",
    "                tensor = np.einsum('ijk, abkd->iajbd', A, B) # Contracts (d x d x 2) and (3 x 3 x 2 x 2)\n",
    "                # Reshape to (i*a, j*b, d)\n",
    "                tensor = np.reshape(tensor, (A.shape[0]*B.shape[0], A.shape[1]*B.shape[1], B.shape[3]))\n",
    "        elif B.ndim == 3:\n",
    "            if dir == 'down' or 'up': # Contract (3d x 3d x 2) and (d x d x 2)\n",
    "                tensor = np.einsum('ijk, abk->iajb', A, B)\n",
    "                # Reshape to (i*a, j*b)\n",
    "                tensor = np.reshape(tensor, (A.shape[0]*B.shape[0], A.shape[1]*B.shape[1]))\n",
    "\n",
    "    elif A.ndim == 2:\n",
    "        if B.ndim == 3:\n",
    "            if dir == 'down':  # From Bra->Operator->Ket\n",
    "                tensor = np.einsum('ij, abi->jab', A, B) # Contract (2 x d) and (3 x 2 x 2)\n",
    "                # Reshape to (j*a, b)\n",
    "                tensor = np.reshape(tensor, (A.shape[1]*B.shape[0], B.shape[1]))\n",
    "            elif dir == 'up':  # From Ket->Operator->Bra\n",
    "                tensor = np.einsum('ij, aic->jac', A, B)\n",
    "                # Reshape to (j*a, c)\n",
    "                tensor = np.reshape(tensor, (A.shape[1]*B.shape[0], B.shape[2]))\n",
    "        elif B.ndim == 2:\n",
    "            if dir == 'down' or 'up':\n",
    "                tensor = np.einsum('ij, jb->ib', A, B) # Contract (3d x 2) and (2 x d)\n",
    "                # Reshape to (i*b)\n",
    "                tensor = np.reshape(tensor, (A.shape[0]*B.shape[1]))\n",
    "\n",
    "    return tensor\n",
    "\n",
    "\n",
    "def calculateExpectation(MPS_bra, MPO, MPS_ket, vert_dir, horiz_dir):\n",
    "    # Initialize list of tensors\n",
    "    tensor = [None]*N\n",
    "\n",
    "    # Contract <MPS|MPO|MPS> at each lattice position\n",
    "    # Down: Bra -> MPO -> Ket\n",
    "    # Up: Ket -> MPO -> Bra\n",
    "    for i in range(0, N):\n",
    "        if vert_dir == 'down':\n",
    "            first_contraction = contract_vertical(MPS_bra[i], MPO[i], vert_dir)\n",
    "            tensor[i] = contract_vertical(first_contraction, MPS_ket[i], vert_dir)\n",
    "        if vert_dir == 'up':\n",
    "            first_contraction = contract_vertical(MPS_ket[i], MPO[i], vert_dir)\n",
    "            tensor[i] = contract_vertical(first_contraction, MPS_bra[i], vert_dir)\n",
    "\n",
    "    # Contract each tensor created from above\n",
    "    # Left and right necessary for scanning in DMRG\n",
    "    if horiz_dir == 'right':\n",
    "        E = tensor[0]\n",
    "        for i in range(1, len(tensor)):\n",
    "            E = contract_horizontal(E, tensor[i], horiz_dir)\n",
    "    if horiz_dir == 'left':\n",
    "        E = tensor[-1]\n",
    "        for i in range(len(tensor)-2, -1, -1):\n",
    "            E = contract_horizontal(E, tensor[i], horiz_dir)\n",
    "\n",
    "    return E\n",
    "\n",
    "# TODO: Determine if vertical/horizontal can be generalized and combined\n",
    "# TODO: Use tensordot for better readability?\n",
    "# NOTE: All directions of contractions have been tested and work correctly.\n",
    "#       This was verified by checking if result is equal for going\n",
    "#       left<->right and up<->down."
   ]
  },
  {
   "cell_type": "code",
   "execution_count": 5,
   "metadata": {},
   "outputs": [],
   "source": [
    "##################### INITIALIZATION MPO ######################################\n",
    "# Operators\n",
    "pauli_z = np.array([[1, 0],\n",
    "                    [0, -1]])\n",
    "\n",
    "pauli_x = np.array([[0, 1],\n",
    "                    [1, 0]])\n",
    "\n",
    "zero = np.zeros((2, 2))\n",
    "identity = np.identity(2)\n",
    "# Interaction parameter\n",
    "g = 2\n",
    "# Particles (Total lattice positions)\n",
    "N = 3\n",
    "\n",
    "# Initialization of Hamiltonian MPO (entries done by hand)\n",
    "# Dimensions (1x3x2x2)->(3x2x2)\n",
    "left_bound = np.array([identity, pauli_z, g*pauli_x])\n",
    "\n",
    "# Dimensions (3x3x2x2)\n",
    "inner = np.array([np.array([identity, pauli_z, g*pauli_x]),\n",
    "                  np.array([zero, zero, pauli_z]),\n",
    "                  np.array([zero, zero, np.identity(2)])])\n",
    "\n",
    "# Dimensions (3x1x2x2)->3x2x2\n",
    "right_bound = np.array([[g*pauli_x],\n",
    "                        [pauli_z],\n",
    "                        [identity]])\n",
    "right_bound = np.squeeze(right_bound)  # Removes unnecessary index\n",
    "\n",
    "MPO_initial = matrixProductOperator(left_bound, inner, right_bound)\n",
    "MPO = [MPO_initial.left_bound] + [MPO_initial.inner]*(N-2) + [MPO_initial.right_bound]\n",
    "# NOTE: The MPO never gets modified, so for a possible performance boost\n",
    "#       we could just use the MPO_initial. For readability by indexing over\n",
    "#       each position, we will expand it anyway so that it matches the MPS."
   ]
  },
  {
   "cell_type": "code",
   "execution_count": 6,
   "metadata": {},
   "outputs": [],
   "source": [
    "######################### INITIALIZATION MPS ##################################\n",
    "# Bond Dimension\n",
    "d = 5\n",
    "\n",
    "state =  np.zeros((1, 2*d*d))\n",
    "state[0, 0] = 1\n",
    "\n",
    "# Dimensions (2 x d)\n",
    "A_1 = np.random.rand(2, d)\n",
    "#A_1 = np.zeros((2, d))\n",
    "#A_1[0, 0] = 1\n",
    "\n",
    "# Dimensions (d x d x 2)\n",
    "A_i = np.random.rand(d, d, 2)\n",
    "#A_i = np.reshape(state, (d, d, 2))\n",
    "\n",
    "# Dimensions (2 x d)\n",
    "A_N = np.random.rand(2, d)\n",
    "#A_N = A_1\n",
    "\n",
    "MPS_initial = matrixProductState(A_1, A_i, A_N)\n",
    "MPS = [MPS_initial.left_bound] + [MPS_initial.inner]*(N-2) + [MPS_initial.right_bound]"
   ]
  },
  {
   "cell_type": "code",
   "execution_count": 7,
   "metadata": {},
   "outputs": [],
   "source": [
    "######################### CANONICAL FORM #############################################\n",
    "# Steps:\n",
    "# 1. Reshape tensor to a matrix\n",
    "# 2. Perform SVD such that A_k = USV\n",
    "# 3. Update A_k --> A'_k = U\n",
    "# 3. A_(k+1) must be reshaped to match dimensions of SV\n",
    "# 4. Update A_(k+1) --> A'_(k+1) = SVA_(k+1)\n",
    "# 5. Repeat for each site\n",
    "# 6. Final site does not need to be decomposed\n",
    "\n",
    "# # SVD\n",
    "# U_1, S, VH_1 = np.linalg.svd(A_1)\n",
    "# # Function only returns singular values, so we need it in matrix form\n",
    "# S_1 = np.zeros((A_1.shape[0], A_1.shape[1]))\n",
    "# S_1[:A_1.shape[0], :A_1.shape[0]] = np.diag(S)\n",
    "\n",
    "# # Update A_K\n",
    "# A_1_prime = U_1\n",
    "\n",
    "# # Reshape A_(k+1) to dimensions of SV\n",
    "# SV = S_1 @ VH_1\n",
    "# A_i_prime = SV @ np.reshape(A_i, (SV.shape[1], d, 2))"
   ]
  },
  {
   "cell_type": "code",
   "execution_count": 8,
   "metadata": {},
   "outputs": [],
   "source": [
    "# # Reshape\n",
    "# temp = np.reshape(A_i_prime, (2, d))\n",
    "# # SVD\n",
    "# U_i, S, VH_i = np.linalg.svd(temp)\n",
    "# # Function only returns singular values, so we need it in matrix form\n",
    "# S_i = np.zeros((temp.shape[0], temp.shape[1]))\n",
    "# S_i[:temp.shape[0], :temp.shape[0]] = np.diag(S)\n",
    "\n",
    "# # Update A_K\n",
    "# A_i_prime = U_i\n",
    "\n",
    "# SV = S_i @ VH_i\n",
    "# A_N_prime = SV @ np.reshape(A_N, (SV.shape[1], 2))"
   ]
  },
  {
   "cell_type": "code",
   "execution_count": 9,
   "metadata": {},
   "outputs": [],
   "source": [
    "# 1. Decompose A_1\n",
    "U_1, S, V_1 = np.linalg.svd(A_1)\n",
    "S_1 = np.zeros((A_1.shape[0], A_1.shape[1]))\n",
    "S_1[:A_1.shape[0], :A_1.shape[0]] = np.diag(S)\n",
    "\n",
    "# 2. Set A_1_prime = U_1\n",
    "A_1_prime = U_1\n",
    "\n",
    "# 3. Update A_i_prime = SVA_i\n",
    "SV = S_1 @ V_1\n",
    "A_i_prime = contract_horizontal(SV, A_i, 'right')\n",
    "\n",
    "\n",
    "#A_i_prime = np.reshape(A_i_prime, (SV.shape[0], d, 2))\n",
    "# (First bond dimension x Given bond dimension x Physical dimension)\n",
    "\n",
    "# 4. Decompose A_i_prime\n",
    "temp = np.reshape(A_i_prime, (2*2, d))\n",
    "U, S_vector, V = np.linalg.svd(temp)\n",
    "S = np.zeros((temp.shape[0], temp.shape[1]))\n",
    "S[:temp.shape[0], :temp.shape[0]] = np.diag(S_vector)\n",
    "\n",
    "# 5. Set A_i_prime to U\n",
    "A_i_prime = np.reshape(U, (int(U.shape[0]/2), int(U.shape[0]/2), U.shape[1]))\n",
    "\n",
    "# 6. Update A_i+1 or A_N to A_N = SVA_N\n",
    "SV = S @ V\n",
    "A_N_prime = contract_horizontal(SV, A_N, 'right')\n",
    "A_N_prime = np.reshape(A_N_prime, (int(A_N_prime.shape[0]/2), 2))\n",
    "\n",
    "# 7. Switch directions and decompose A_N_prime\n",
    "temp = A_N_prime\n",
    "U, S_vector, V = np.linalg.svd(temp)\n",
    "S = np.zeros((temp.shape[0], temp.shape[1]))\n",
    "S[:temp.shape[1], :temp.shape[1]] = np.diag(S_vector)\n",
    "#### Switch to 1, 1 for going to the left?\n",
    "\n",
    "# 8. Set A_N_prime_prime = V\n",
    "A_N_prime_prime = V # No need to reshape\n",
    "\n",
    "# 9. Update A_i-1 or A_i with A_i = A_iUS\n",
    "US = U @ S\n",
    "A_i_prime_prime = np.einsum('ij, abi->abj', US, A_i_prime)\n",
    "\n",
    "# NOTE: @ operator for multiplication contracts with the wrong index\n",
    "#       Ex. (2x5) @ (5x5x2) = (5 x 2 x 2)?\n",
    "\n",
    "# TODO: Set threshold for elements. If below X, set to 0."
   ]
  },
  {
   "cell_type": "code",
   "execution_count": 10,
   "metadata": {},
   "outputs": [],
   "source": [
    "MPS_prime = [A_1_prime] + [A_i_prime_prime] + [A_N_prime_prime]"
   ]
  },
  {
   "cell_type": "code",
   "execution_count": 11,
   "metadata": {},
   "outputs": [],
   "source": [
    "E_D_R = calculateExpectation(MPS, MPO, MPS, 'down', 'right')\n",
    "E_D_R_prime = calculateExpectation(MPS_prime, MPO, MPS_prime, 'down', 'right')"
   ]
  },
  {
   "cell_type": "code",
   "execution_count": 12,
   "metadata": {},
   "outputs": [
    {
     "output_type": "execute_result",
     "data": {
      "text/plain": "436.60950327574614"
     },
     "metadata": {},
     "execution_count": 12
    }
   ],
   "source": [
    "E_D_R"
   ]
  },
  {
   "cell_type": "code",
   "execution_count": 13,
   "metadata": {},
   "outputs": [
    {
     "output_type": "execute_result",
     "data": {
      "text/plain": "240.34673186468177"
     },
     "metadata": {},
     "execution_count": 13
    }
   ],
   "source": [
    "E_D_R_prime"
   ]
  },
  {
   "cell_type": "code",
   "execution_count": 27,
   "metadata": {},
   "outputs": [
    {
     "output_type": "execute_result",
     "data": {
      "text/plain": "matrix([[1.00000000e+00, 1.11022302e-16],\n        [1.11022302e-16, 1.00000000e+00]])"
     },
     "metadata": {},
     "execution_count": 27
    }
   ],
   "source": [
    "np.matrix(MPS_prime[0]).H @ MPS_prime[0]"
   ]
  },
  {
   "cell_type": "code",
   "execution_count": 28,
   "metadata": {},
   "outputs": [
    {
     "output_type": "execute_result",
     "data": {
      "text/plain": "matrix([[1.00000000e+00, 2.22044605e-16],\n        [2.22044605e-16, 1.00000000e+00]])"
     },
     "metadata": {},
     "execution_count": 28
    }
   ],
   "source": [
    "MPS_prime[0] @np.matrix(MPS_prime[0]).H"
   ]
  },
  {
   "cell_type": "code",
   "execution_count": 29,
   "metadata": {},
   "outputs": [
    {
     "output_type": "execute_result",
     "data": {
      "text/plain": "matrix([[1., 0.],\n        [0., 1.]])"
     },
     "metadata": {},
     "execution_count": 29
    }
   ],
   "source": [
    "np.matrix(MPS_prime[2]).H @ MPS_prime[2]"
   ]
  },
  {
   "cell_type": "code",
   "execution_count": 30,
   "metadata": {},
   "outputs": [
    {
     "output_type": "execute_result",
     "data": {
      "text/plain": "matrix([[1., 0.],\n        [0., 1.]])"
     },
     "metadata": {},
     "execution_count": 30
    }
   ],
   "source": [
    "MPS_prime[2] @np.matrix(MPS_prime[2]).H"
   ]
  },
  {
   "cell_type": "code",
   "execution_count": 33,
   "metadata": {},
   "outputs": [
    {
     "output_type": "execute_result",
     "data": {
      "text/plain": "matrix([[ 7.53327425e+01, -1.66533454e-16],\n        [-1.66533454e-16,  3.75914389e-02]])"
     },
     "metadata": {},
     "execution_count": 33
    }
   ],
   "source": [
    "np.matrix(np.reshape(MPS_prime[1], (2*2, 2))).H @ np.reshape(MPS_prime[1], (2*2, 2))"
   ]
  },
  {
   "cell_type": "code",
   "execution_count": 31,
   "metadata": {},
   "outputs": [],
   "source": [
    "# ######## EXPECTATION VALUE DOWN, RIGHT ##########\n",
    "# Left lattice bra->H->ket\n",
    "temp = contract_vertical(MPS_prime[0], MPO[0], 'down')\n",
    "left = contract_vertical(temp, MPS_prime[0], 'down')\n",
    "\n",
    "# Inner lattice bra->H->ket\n",
    "temp = contract_vertical(MPS_prime[1], MPO[1], 'down')\n",
    "inner = contract_vertical(temp, MPS_prime[1], 'down')\n",
    "\n",
    "# Right lattice bra->H->ket\n",
    "temp = contract_vertical(MPS_prime[2], MPO[2], 'down')\n",
    "right = contract_vertical(temp, MPS_prime[2], 'down')\n",
    "\n",
    "# temp = contract_horizontal(left, inner, 'right')\n",
    "# E_down_right = contract_horizontal(temp, right, 'right')"
   ]
  },
  {
   "cell_type": "code",
   "execution_count": 32,
   "metadata": {},
   "outputs": [
    {
     "output_type": "execute_result",
     "data": {
      "text/plain": "array([ 1.        ,  0.        , -0.12123629,  0.99262368,  1.98524735,\n        0.24247257,  0.        ,  1.        ,  0.99262368,  0.12123629,\n        0.24247257, -1.98524735])"
     },
     "metadata": {},
     "execution_count": 32
    }
   ],
   "source": [
    "left"
   ]
  },
  {
   "cell_type": "code",
   "execution_count": 33,
   "metadata": {},
   "outputs": [
    {
     "output_type": "execute_result",
     "data": {
      "text/plain": "array([[ 5.90360303e+01,  5.22156870e+01,  5.90171207e+01,\n         5.22366851e+01,  2.98819457e+00, -3.37160698e-01,\n         5.22156870e+01,  4.62209211e+01,  5.22366851e+01,\n         4.61976037e+01, -3.37160698e-01, -2.93595724e+00],\n       [-1.59900017e+00,  4.67396449e-02, -1.61037098e+00,\n         6.86678144e-02,  8.57823968e-01, -1.73115046e+00,\n        -1.42612482e+00,  6.32308433e-02, -1.41349807e+00,\n         3.88806446e-02,  8.40038297e-01, -1.53462072e+00],\n       [ 0.00000000e+00,  0.00000000e+00,  0.00000000e+00,\n         0.00000000e+00,  5.90171207e+01,  5.22366851e+01,\n         0.00000000e+00,  0.00000000e+00,  0.00000000e+00,\n         0.00000000e+00,  5.22366851e+01,  4.61976037e+01],\n       [ 0.00000000e+00,  0.00000000e+00,  0.00000000e+00,\n         0.00000000e+00, -1.61037098e+00,  6.86678144e-02,\n         0.00000000e+00,  0.00000000e+00,  0.00000000e+00,\n         0.00000000e+00, -1.41349807e+00,  3.88806446e-02],\n       [ 0.00000000e+00,  0.00000000e+00,  0.00000000e+00,\n         0.00000000e+00,  5.90360303e+01,  5.22156870e+01,\n         0.00000000e+00,  0.00000000e+00,  0.00000000e+00,\n         0.00000000e+00,  5.22156870e+01,  4.62209211e+01],\n       [ 0.00000000e+00,  0.00000000e+00,  0.00000000e+00,\n         0.00000000e+00, -1.59900017e+00,  4.67396449e-02,\n         0.00000000e+00,  0.00000000e+00,  0.00000000e+00,\n         0.00000000e+00, -1.42612482e+00,  6.32308433e-02],\n       [-1.59900017e+00, -1.42612482e+00, -1.61037098e+00,\n        -1.41349807e+00,  8.57823968e-01,  8.40038297e-01,\n         4.67396449e-02,  6.32308433e-02,  6.86678144e-02,\n         3.88806446e-02, -1.73115046e+00, -1.53462072e+00],\n       [ 4.70434780e-02, -8.16173179e-03,  4.02058933e-02,\n         5.02428592e-03, -4.88497685e-02,  4.79807518e-02,\n        -8.16173179e-03,  1.27707731e-02,  5.02428592e-03,\n        -1.26579520e-02,  4.79807518e-02, -3.38756298e-03],\n       [ 0.00000000e+00,  0.00000000e+00,  0.00000000e+00,\n         0.00000000e+00, -1.61037098e+00, -1.41349807e+00,\n         0.00000000e+00,  0.00000000e+00,  0.00000000e+00,\n         0.00000000e+00,  6.86678144e-02,  3.88806446e-02],\n       [ 0.00000000e+00,  0.00000000e+00,  0.00000000e+00,\n         0.00000000e+00,  4.02058933e-02,  5.02428592e-03,\n         0.00000000e+00,  0.00000000e+00,  0.00000000e+00,\n         0.00000000e+00,  5.02428592e-03, -1.26579520e-02],\n       [ 0.00000000e+00,  0.00000000e+00,  0.00000000e+00,\n         0.00000000e+00, -1.59900017e+00, -1.42612482e+00,\n         0.00000000e+00,  0.00000000e+00,  0.00000000e+00,\n         0.00000000e+00,  4.67396449e-02,  6.32308433e-02],\n       [ 0.00000000e+00,  0.00000000e+00,  0.00000000e+00,\n         0.00000000e+00,  4.70434780e-02, -8.16173179e-03,\n         0.00000000e+00,  0.00000000e+00,  0.00000000e+00,\n         0.00000000e+00, -8.16173179e-03,  1.27707731e-02]])"
     },
     "metadata": {},
     "execution_count": 33
    }
   ],
   "source": [
    "inner"
   ]
  },
  {
   "cell_type": "code",
   "execution_count": 56,
   "metadata": {},
   "outputs": [
    {
     "output_type": "execute_result",
     "data": {
      "text/plain": "array([ 0.,  2.,  1.,  0.,  1.,  0.,  2.,  0.,  0., -1.,  0.,  1.])"
     },
     "metadata": {},
     "execution_count": 56
    }
   ],
   "source": [
    "right"
   ]
  },
  {
   "cell_type": "code",
   "execution_count": null,
   "metadata": {},
   "outputs": [],
   "source": []
  },
  {
   "cell_type": "code",
   "execution_count": 32,
   "metadata": {},
   "outputs": [
    {
     "output_type": "stream",
     "name": "stdout",
     "text": "Hamiltonian contracts correctly\nExpectation value contracts in all directions correctly\nExpectation value is the same in all directions\n466.18273134171596 466.18273134171585 466.18273134171596 466.18273134171585\n"
    }
   ],
   "source": [
    "# # ############## MANUAL TESTS FOR N = 3 #################################\n",
    "# # ####### CONTRACT HAMILTONIAN LEFT AND RIGHT ########\n",
    "# temp = contract_horizontal(MPO[0], MPO[1], 'right')\n",
    "# H_right = contract_horizontal(temp, MPO[2], 'right')\n",
    "# temp = contract_horizontal(MPO[2], MPO[1], 'left')\n",
    "# H_left = contract_horizontal(temp, MPO[0], 'left')\n",
    "# if (H_right.all() == H_left.all()):\n",
    "#     print(\"Hamiltonian contracts correctly\")\n",
    "\n",
    "# # ######## EXPECTATION VALUE DOWN, RIGHT ##########\n",
    "# # Left lattice bra->H->ket\n",
    "# temp = contract_vertical(MPS[0], MPO[0], 'down')\n",
    "# left = contract_vertical(temp, MPS[0], 'down')\n",
    "\n",
    "# # Inner lattice bra->H->ket\n",
    "# temp = contract_vertical(MPS[1], MPO[1], 'down')\n",
    "# inner = contract_vertical(temp, MPS[1], 'down')\n",
    "\n",
    "# # Right lattice bra->H->ket\n",
    "# temp = contract_vertical(MPS[2], MPO[2], 'down')\n",
    "# right = contract_vertical(temp, MPS[2], 'down')\n",
    "\n",
    "# temp = contract_horizontal(left, inner, 'right')\n",
    "# E_down_right = contract_horizontal(temp, right, 'right')\n",
    "\n",
    "# ###### EXPECTATION VALUE UP, RIGHT ###########\n",
    "# # Left lattice ket->H->bra\n",
    "# temp = contract_vertical(MPS[0], MPO[0], 'up')\n",
    "# left = contract_vertical(temp, MPS[0], 'up')\n",
    "\n",
    "# # Inner lattice ket->H->bra\n",
    "# temp = contract_vertical(MPS[1], MPO[1], 'up')\n",
    "# inner = contract_vertical(temp, MPS[1], 'up')\n",
    "\n",
    "# # Right lattice ket->H->bra\n",
    "# temp = contract_vertical(MPS[2], MPO[2], 'up')\n",
    "# right = contract_vertical(temp, MPS[2], 'up')\n",
    "\n",
    "# temp = contract_horizontal(left, inner, 'right')\n",
    "# E_up_right = contract_horizontal(temp, right, 'right')\n",
    "\n",
    "# ###### EXPECTATION VALUE UP, LEFT ###########\n",
    "# # Right lattice bra->H->ket\n",
    "# temp = contract_vertical(MPS[2], MPO[2], 'up')\n",
    "# right = contract_vertical(temp, MPS[2], 'up')\n",
    "\n",
    "# # Inner lattice bra->H->ket\n",
    "# temp = contract_vertical(MPS[1], MPO[1], 'up')\n",
    "# inner = contract_vertical(temp, MPS[1], 'up')\n",
    "\n",
    "# # Left lattice bra->H->ket\n",
    "# temp = contract_vertical(MPS[0], MPO[0], 'up')\n",
    "# left = contract_vertical(temp, MPS[0], 'up')\n",
    "\n",
    "# temp = contract_horizontal(right, inner, 'left')\n",
    "# E_up_left = contract_horizontal(temp, left, 'left')\n",
    "\n",
    "# ###### EXPECTATION VALUE DOWN, LEFT ###########\n",
    "# # Right lattice bra->H->ket\n",
    "# temp = contract_vertical(MPS[2], MPO[2], 'down')\n",
    "# right = contract_vertical(temp, MPS[2], 'down')\n",
    "\n",
    "# # Inner lattice bra->H->ket\n",
    "# temp = contract_vertical(MPS[1], MPO[1], 'down')\n",
    "# inner = contract_vertical(temp, MPS[1], 'down')\n",
    "\n",
    "# # Left lattice bra->H->ket\n",
    "# temp = contract_vertical(MPS[0], MPO[0], 'down')\n",
    "# left = contract_vertical(temp, MPS[0], 'down')\n",
    "\n",
    "# temp = contract_horizontal(right, inner, 'left')\n",
    "# E_down_left = contract_horizontal(temp, left, 'left')\n",
    "\n",
    "# ######## EXPECTATION VALUE ZIG-ZAG ##########\n",
    "# # Left lattice bra->H->ket\n",
    "# temp = contract_vertical(MPS[0], MPO[0], 'down')\n",
    "# left = contract_vertical(temp, MPS[0], 'down')\n",
    "\n",
    "# # Inner lattice ket->H->bra\n",
    "# temp = contract_vertical(MPS[1], MPO[1], 'up')\n",
    "# inner = contract_vertical(temp, MPS[1], 'up')\n",
    "\n",
    "# # Right lattice bra->H->ket\n",
    "# temp = contract_vertical(MPS[2], MPO[2], 'down')\n",
    "# right = contract_vertical(temp, MPS[2], 'down')\n",
    "\n",
    "# temp = contract_horizontal(left, inner, 'right')\n",
    "# E_zig_zag = contract_horizontal(temp, right, 'right')\n",
    "\n",
    "# if (E_down_right.all() == E_down_left.all() == E_up_right.all() == E_up_left.all() == E_zig_zag.all()):\n",
    "#      print(\"Expectation value contracts in all directions correctly\")\n",
    "\n",
    "# ######################## EXPECTATION VALUE #############################################\n",
    "# E_D_R = calculateExpectation(MPS, MPO, MPS, 'down', 'right')\n",
    "# E_D_L = calculateExpectation(MPS, MPO, MPS, 'down', 'left')\n",
    "# E_U_R = calculateExpectation(MPS, MPO, MPS, 'up', 'right')\n",
    "# E_U_L = calculateExpectation(MPS, MPO, MPS, 'up', 'left')\n",
    "\n",
    "# # Rounding necessary since sometimes the values are slightly off\n",
    "# # Most likely due to rounding errors in computation\n",
    "# if (np.round(E_D_R, 5) == np.round(E_D_L, 5)\n",
    "#                        == np.round(E_U_R, 5)\n",
    "#                        == np.round(E_U_L, 5)):\n",
    "#     print(\"Expectation value is the same in all directions\")\n",
    "# print(E_D_R, E_D_L, E_U_R, E_U_L)"
   ]
  },
  {
   "cell_type": "code",
   "execution_count": null,
   "metadata": {},
   "outputs": [],
   "source": []
  }
 ],
 "metadata": {
  "kernelspec": {
   "display_name": "Python 3",
   "language": "python",
   "name": "python3"
  },
  "language_info": {
   "codemirror_mode": {
    "name": "ipython",
    "version": 3
   },
   "file_extension": ".py",
   "mimetype": "text/x-python",
   "name": "python",
   "nbconvert_exporter": "python",
   "pygments_lexer": "ipython3",
   "version": "3.8.2-final"
  }
 },
 "nbformat": 4,
 "nbformat_minor": 4
}