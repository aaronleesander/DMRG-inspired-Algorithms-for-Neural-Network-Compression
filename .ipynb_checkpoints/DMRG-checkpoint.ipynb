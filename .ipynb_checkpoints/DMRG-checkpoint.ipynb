{
 "cells": [
  {
   "cell_type": "markdown",
   "metadata": {},
   "source": [
    "# Information\n",
    "\n",
    "- Title: DMRG\n",
    "- Author: Aaron Sander\n",
    "- Date: March 2020\n",
    "\n",
    "## Purpose:\n",
    "- This program is used for initial learning of tensor network methods to be used in my bachelor thesis.\n",
    "- It is an implementation of Matrix Product States (MPS) and Density Matrix Renormalization Group (DMRG)\n",
    "  for finding the ground state of an arbitrary Hamiltonian.\n",
    "\n",
    "## Steps:\n",
    "1. Initialize a Hamiltonian tensor for N particles\n",
    "2. Decompose it with the MPS method\n",
    "3. Apply variational method to determine energy value\n",
    "4. Minimize energy one matrix at a time while holding others constant\n",
    "5. Apply DMRG? (TBD)"
   ]
  },
  {
   "cell_type": "code",
   "execution_count": 1,
   "metadata": {},
   "outputs": [],
   "source": [
    "import numpy as np"
   ]
  },
  {
   "cell_type": "markdown",
   "metadata": {},
   "source": [
    "We choose an arbitrary N-particle 1D Hamiltonian with nearest-neighbor spin interaction.\n",
    "\n",
    "$ H = \\sum_i^N{\\sigma^z_i \\sigma^z_{i+1} + g \\sigma^x_i}$\n",
    "with $j^{th}$ Pauli matrix of the $i^{th}$lattice position $\\sigma^j_i \\in M(\\mathbb{C}, 2x2)$ and parameter $g$."
   ]
  },
  {
   "cell_type": "code",
   "execution_count": null,
   "metadata": {},
   "outputs": [],
   "source": []
  }
 ],
 "metadata": {
  "kernelspec": {
   "display_name": "Python 3",
   "language": "python",
   "name": "python3"
  },
  "language_info": {
   "codemirror_mode": {
    "name": "ipython",
    "version": 3
   },
   "file_extension": ".py",
   "mimetype": "text/x-python",
   "name": "python",
   "nbconvert_exporter": "python",
   "pygments_lexer": "ipython3",
   "version": "3.7.3"
  }
 },
 "nbformat": 4,
 "nbformat_minor": 4
}
